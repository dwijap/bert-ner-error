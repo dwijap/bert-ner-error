{
 "cells": [
  {
   "cell_type": "code",
   "execution_count": 7,
   "metadata": {},
   "outputs": [],
   "source": [
    "import pandas as pd\n",
    "import numpy as np\n",
    "import matplotlib as plt\n",
    "import os"
   ]
  },
  {
   "cell_type": "code",
   "execution_count": 9,
   "metadata": {},
   "outputs": [],
   "source": [
    "def read_data(input_file):\n",
    "    rf = open(input_file, 'r')\n",
    "    lines = []; words = []; labels = []\n",
    "    for line in rf:\n",
    "        word = line.strip().split(' ')[0]\n",
    "        label = line.strip().split(' ')[-1]\n",
    "        if len(line.strip()) == 0 and words[-1] == '.':\n",
    "            l = ' '.join([label for label in labels if len(label) > 0])\n",
    "            w = ' '.join([word for word in words if len(word) > 0])\n",
    "            lines.append((l, w))\n",
    "            words = []\n",
    "            labels = []\n",
    "        words.append(word)\n",
    "        labels.append(label)\n",
    "    labels_list=[]\n",
    "    for l in lines:\n",
    "        labels_list.append(l[0])\n",
    "    return labels_list, lines\n",
    "   \n",
    "og_labels, og_lines =  read_data(\"./baselines/bert_baseline/original_conll03/original_test_predictions.txt\")\n",
    "prop_labels, prop_lines =  read_data(\"./baselines/bert_baseline/proposed_conll03/proposed_test_predictions.txt\")"
   ]
  },
  {
   "cell_type": "code",
   "execution_count": 10,
   "metadata": {},
   "outputs": [
    {
     "name": "stdout",
     "output_type": "stream",
     "text": [
      "52 [('B-ORG', 'I-PER'), ('B-ORG', 'I-PER'), ('B-PER', 'I-ORG'), ('B-LOC', 'I-MISC'), ('B-ORG', 'I-MISC'), ('B-ORG', 'I-MISC'), ('B-LOC', 'I-MISC'), ('B-LOC', 'I-MISC'), ('B-ORG', 'I-MISC'), ('B-LOC', 'I-ORG'), ('B-ORG', 'I-MISC'), ('B-PER', 'I-ORG'), ('B-ORG', 'I-PER'), ('B-LOC', 'I-MISC'), ('B-MISC', 'I-ORG'), ('B-ORG', 'I-MISC'), ('B-ORG', 'I-LOC'), ('B-LOC', 'I-ORG'), ('B-MISC', 'I-LOC'), ('B-LOC', 'I-ORG'), ('B-LOC', 'I-ORG'), ('B-LOC', 'I-ORG'), ('B-LOC', 'I-MISC'), ('B-ORG', 'I-LOC'), ('B-PER', 'I-LOC'), ('B-PER', 'I-LOC'), ('B-MISC', 'I-ORG'), ('B-LOC', 'I-PER'), ('B-LOC', 'I-ORG'), ('B-MISC', 'I-LOC'), ('B-MISC', 'I-ORG'), ('B-LOC', 'I-MISC'), ('B-MISC', 'I-ORG'), ('B-MISC', 'I-ORG'), ('B-MISC', 'I-ORG'), ('B-PER', 'I-ORG'), ('B-PER', 'I-LOC'), ('B-MISC', 'I-ORG'), ('B-LOC', 'I-MISC'), ('B-LOC', 'I-ORG'), ('B-LOC', 'I-ORG'), ('B-LOC', 'I-ORG'), ('B-LOC', 'I-ORG'), ('B-MISC', 'I-LOC'), ('B-MISC', 'I-LOC'), ('B-ORG', 'I-MISC'), ('B-LOC', 'I-MISC'), ('B-ORG', 'I-MISC'), ('B-LOC', 'I-MISC'), ('B-LOC', 'I-MISC'), ('B-PER', 'I-ORG'), ('B-LOC', 'I-MISC')]\n",
      "134 [('B-LOC', 'I-ORG'), ('B-MISC', 'I-PER'), ('B-PER', 'I-MISC'), ('B-ORG', 'I-PER'), ('B-ORG', 'I-PER'), ('B-LOC', 'I-MISC'), ('B-ORG', 'I-PER'), ('B-ORG', 'I-MISC'), ('B-LOC', 'I-ORG'), ('B-LOC', 'I-ORG'), ('B-MISC', 'I-ORG'), ('B-LOC', 'I-ORG'), ('B-LOC', 'I-ORG'), ('B-LOC', 'I-MISC'), ('B-PER', 'I-ORG'), ('B-ORG', 'I-LOC'), ('B-LOC', 'I-ORG'), ('B-MISC', 'I-ORG'), ('B-ORG', 'I-PER'), ('B-ORG', 'I-PER'), ('B-ORG', 'I-PER'), ('B-MISC', 'I-ORG'), ('B-MISC', 'I-ORG'), ('B-MISC', 'I-ORG'), ('B-LOC', 'I-PER'), ('B-MISC', 'I-ORG'), ('B-ORG', 'I-LOC'), ('B-ORG', 'I-MISC'), ('B-MISC', 'I-PER'), ('B-ORG', 'I-LOC'), ('B-ORG', 'I-PER'), ('B-MISC', 'I-LOC'), ('B-ORG', 'I-PER'), ('B-MISC', 'I-LOC'), ('B-ORG', 'I-PER'), ('B-ORG', 'I-MISC'), ('B-MISC', 'I-ORG'), ('B-MISC', 'I-ORG'), ('B-LOC', 'I-MISC'), ('B-LOC', 'I-MISC'), ('B-ORG', 'I-PER'), ('B-LOC', 'I-ORG'), ('B-LOC', 'I-ORG'), ('B-LOC', 'I-ORG'), ('B-MISC', 'I-ORG'), ('B-LOC', 'I-ORG'), ('B-LOC', 'I-ORG'), ('B-LOC', 'I-ORG'), ('B-LOC', 'I-MISC'), ('B-ORG', 'I-LOC'), ('B-LOC', 'I-ORG'), ('B-ORG', 'I-PER'), ('B-MISC', 'I-ORG'), ('B-LOC', 'I-ORG'), ('B-LOC', 'I-MISC'), ('B-MISC', 'I-ORG'), ('B-LOC', 'I-ORG'), ('B-LOC', 'I-ORG'), ('B-ORG', 'I-PER'), ('B-LOC', 'I-ORG'), ('B-PER', 'I-ORG'), ('B-LOC', 'I-ORG'), ('B-MISC', 'I-ORG'), ('B-ORG', 'I-PER'), ('B-LOC', 'I-ORG'), ('B-ORG', 'I-LOC'), ('B-LOC', 'I-ORG'), ('B-ORG', 'I-PER'), ('B-ORG', 'I-MISC'), ('B-LOC', 'I-MISC'), ('B-LOC', 'I-ORG'), ('B-LOC', 'I-PER'), ('B-LOC', 'I-ORG'), ('B-MISC', 'I-ORG'), ('B-ORG', 'I-PER'), ('B-LOC', 'I-ORG'), ('B-MISC', 'I-LOC'), ('B-PER', 'I-ORG'), ('B-ORG', 'I-MISC'), ('B-LOC', 'I-MISC'), ('B-LOC', 'I-MISC'), ('B-LOC', 'I-PER'), ('B-LOC', 'I-ORG'), ('B-ORG', 'I-LOC'), ('B-LOC', 'I-ORG'), ('B-MISC', 'I-LOC'), ('B-LOC', 'I-ORG'), ('B-ORG', 'I-LOC'), ('B-LOC', 'I-ORG'), ('B-MISC', 'I-PER'), ('B-MISC', 'I-ORG'), ('B-LOC', 'I-ORG'), ('B-ORG', 'I-LOC'), ('B-LOC', 'I-ORG'), ('B-LOC', 'I-ORG'), ('B-MISC', 'I-LOC'), ('B-ORG', 'I-MISC'), ('B-PER', 'I-ORG'), ('B-LOC', 'I-ORG'), ('B-MISC', 'I-ORG'), ('B-LOC', 'I-ORG'), ('B-ORG', 'I-PER'), ('B-ORG', 'I-MISC'), ('B-ORG', 'I-MISC'), ('B-ORG', 'I-MISC'), ('B-LOC', 'I-ORG'), ('B-MISC', 'I-LOC'), ('B-ORG', 'I-LOC'), ('B-ORG', 'I-PER'), ('B-ORG', 'I-PER'), ('B-LOC', 'I-MISC'), ('B-LOC', 'I-MISC'), ('B-MISC', 'I-LOC'), ('B-LOC', 'I-ORG'), ('B-ORG', 'I-PER'), ('B-LOC', 'I-ORG'), ('B-LOC', 'I-ORG'), ('B-ORG', 'I-PER'), ('B-ORG', 'I-MISC'), ('B-MISC', 'I-ORG'), ('B-ORG', 'I-PER'), ('B-MISC', 'I-ORG'), ('B-LOC', 'I-ORG'), ('B-ORG', 'I-LOC'), ('B-LOC', 'I-ORG'), ('B-LOC', 'I-ORG'), ('B-MISC', 'I-ORG'), ('B-LOC', 'I-ORG'), ('B-MISC', 'I-ORG'), ('B-LOC', 'I-PER'), ('B-ORG', 'I-MISC'), ('B-MISC', 'I-ORG'), ('B-LOC', 'I-ORG'), ('B-LOC', 'I-ORG')]\n"
     ]
    }
   ],
   "source": [
    "\"\"\"\n",
    "finding incongruent sequences like B-PER I-LOC\n",
    "currently only works for entities with two words\n",
    "\"\"\"\n",
    "def incongruent_label(labels):\n",
    "    incong=[]\n",
    "    for l in labels:\n",
    "        ll=l.split(' ')\n",
    "        for w in range(len(ll)):\n",
    "            if ll[w]=='O':\n",
    "                pass\n",
    "            else:\n",
    "                if ll[w].split('-')[0]=='B':\n",
    "                    if ll[w+1].split('-')[0]=='I':\n",
    "                        if  ll[w].split('-')[1]!=ll[w+1].split('-')[1]:\n",
    "                            incong.append((ll[w],ll[w+1]))\n",
    "    return incong\n",
    "\n",
    "og_incongruent=incongruent_label(og_labels)\n",
    "prop_incongruent=incongruent_label(prop_labels)\n",
    "print(len(og_incongruent),og_incongruent)\n",
    "\n",
    "print(len(prop_incongruent),prop_incongruent)"
   ]
  },
  {
   "cell_type": "code",
   "execution_count": null,
   "metadata": {},
   "outputs": [],
   "source": []
  }
 ],
 "metadata": {
  "kernelspec": {
   "display_name": "Python 3",
   "language": "python",
   "name": "python3"
  },
  "language_info": {
   "codemirror_mode": {
    "name": "ipython",
    "version": 3
   },
   "file_extension": ".py",
   "mimetype": "text/x-python",
   "name": "python",
   "nbconvert_exporter": "python",
   "pygments_lexer": "ipython3",
   "version": "3.7.3"
  }
 },
 "nbformat": 4,
 "nbformat_minor": 2
}
