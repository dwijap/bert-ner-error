{
 "cells": [
  {
   "cell_type": "code",
   "execution_count": 4,
   "metadata": {},
   "outputs": [],
   "source": [
    "import pandas as pd\n",
    "import numpy as np\n",
    "import matplotlib.pyplot as plt\n",
    "import matplotlib as mpl\n",
    "import os"
   ]
  },
  {
   "cell_type": "code",
   "execution_count": 5,
   "metadata": {},
   "outputs": [],
   "source": [
    "import csv\n",
    "from itertools import groupby\n",
    "def read_conll(filename, columns, delimiter='\\t'):\n",
    "    def is_empty_line(line_pack):\n",
    "        return all(field.strip() == '' for field in line_pack)\n",
    "    data = []\n",
    "    with open(filename) as fp:\n",
    "        reader = csv.reader(fp, delimiter=delimiter, quoting=csv.QUOTE_NONE)\n",
    "        groups = groupby(reader, is_empty_line)\n",
    "        for is_empty, pack in groups:\n",
    "            if is_empty is False:\n",
    "                data.append([list(field) for field in zip(*pack)])\n",
    "    data = list(zip(*data))\n",
    "    dataset = {colname: list(data[columns[colname]]) for colname in columns}\n",
    "    return dataset"
   ]
  },
  {
   "cell_type": "code",
   "execution_count": 6,
   "metadata": {},
   "outputs": [],
   "source": [
    "og_pred_filename = \"./baselines/bert_baseline/original_conll03/original_test_predictions.txt\"\n",
    "prop_pred_filename = \"./baselines/bert_baseline/proposed_conll03/proposed_test_predictions.txt\"\n",
    "og_label_filename = \"./baselines/bert_baseline/original_conll03/original_test_labels.txt\"\n",
    "prop_label_filename = \"./baselines/bert_baseline/proposed_conll03/proposed_test_labels.txt\"\n",
    "columns = {\"Tokens\": 0, \"Preds\": 1}\n",
    "delimiter = ' '\n",
    "og_pred_data = read_conll(og_pred_filename, columns, delimiter)\n",
    "prop_pred_data = read_conll(prop_pred_filename, columns, delimiter)\n",
    "og_label_data = read_conll(og_label_filename, columns, delimiter)\n",
    "prop_label_data = read_conll(prop_label_filename, columns, delimiter)"
   ]
  },
  {
   "cell_type": "code",
   "execution_count": 7,
   "metadata": {},
   "outputs": [],
   "source": [
    "og_pred_df=pd.DataFrame(og_pred_data)\n",
    "prop_pred_df=pd.DataFrame(prop_pred_data)\n",
    "og_label_df=pd.DataFrame(og_label_data)\n",
    "prop_label_df=pd.DataFrame(prop_label_data)\n",
    "\n",
    "# pd.set_option('display.max_rows', None)\n",
    "# pd.set_option('display.max_columns', None)\n",
    "# pd.set_option('display.width', None)\n",
    "# pd.set_option('display.max_colwidth', -1)"
   ]
  },
  {
   "cell_type": "code",
   "execution_count": 8,
   "metadata": {},
   "outputs": [
    {
     "data": {
      "text/html": [
       "<div>\n",
       "<style scoped>\n",
       "    .dataframe tbody tr th:only-of-type {\n",
       "        vertical-align: middle;\n",
       "    }\n",
       "\n",
       "    .dataframe tbody tr th {\n",
       "        vertical-align: top;\n",
       "    }\n",
       "\n",
       "    .dataframe thead th {\n",
       "        text-align: right;\n",
       "    }\n",
       "</style>\n",
       "<table border=\"1\" class=\"dataframe\">\n",
       "  <thead>\n",
       "    <tr style=\"text-align: right;\">\n",
       "      <th></th>\n",
       "      <th>Tokens</th>\n",
       "      <th>Preds</th>\n",
       "    </tr>\n",
       "  </thead>\n",
       "  <tbody>\n",
       "    <tr>\n",
       "      <th>count</th>\n",
       "      <td>3453</td>\n",
       "      <td>3453</td>\n",
       "    </tr>\n",
       "    <tr>\n",
       "      <th>unique</th>\n",
       "      <td>3184</td>\n",
       "      <td>1499</td>\n",
       "    </tr>\n",
       "    <tr>\n",
       "      <th>top</th>\n",
       "      <td>[LONDON, 1996-12-06]</td>\n",
       "      <td>[B-ORG, O, O, O, O, O, O, O]</td>\n",
       "    </tr>\n",
       "    <tr>\n",
       "      <th>freq</th>\n",
       "      <td>19</td>\n",
       "      <td>170</td>\n",
       "    </tr>\n",
       "  </tbody>\n",
       "</table>\n",
       "</div>"
      ],
      "text/plain": [
       "                      Tokens                         Preds\n",
       "count                   3453                          3453\n",
       "unique                  3184                          1499\n",
       "top     [LONDON, 1996-12-06]  [B-ORG, O, O, O, O, O, O, O]\n",
       "freq                      19                           170"
      ]
     },
     "execution_count": 8,
     "metadata": {},
     "output_type": "execute_result"
    }
   ],
   "source": [
    "og_pred_df.describe()"
   ]
  },
  {
   "cell_type": "code",
   "execution_count": 9,
   "metadata": {},
   "outputs": [
    {
     "data": {
      "text/html": [
       "<div>\n",
       "<style scoped>\n",
       "    .dataframe tbody tr th:only-of-type {\n",
       "        vertical-align: middle;\n",
       "    }\n",
       "\n",
       "    .dataframe tbody tr th {\n",
       "        vertical-align: top;\n",
       "    }\n",
       "\n",
       "    .dataframe thead th {\n",
       "        text-align: right;\n",
       "    }\n",
       "</style>\n",
       "<table border=\"1\" class=\"dataframe\">\n",
       "  <thead>\n",
       "    <tr style=\"text-align: right;\">\n",
       "      <th></th>\n",
       "      <th>Tokens</th>\n",
       "      <th>Preds</th>\n",
       "    </tr>\n",
       "  </thead>\n",
       "  <tbody>\n",
       "    <tr>\n",
       "      <th>count</th>\n",
       "      <td>3453</td>\n",
       "      <td>3453</td>\n",
       "    </tr>\n",
       "    <tr>\n",
       "      <th>unique</th>\n",
       "      <td>3184</td>\n",
       "      <td>1469</td>\n",
       "    </tr>\n",
       "    <tr>\n",
       "      <th>top</th>\n",
       "      <td>[LONDON, 1996-12-06]</td>\n",
       "      <td>[B-ORG, O, O, O, O, O, O, O]</td>\n",
       "    </tr>\n",
       "    <tr>\n",
       "      <th>freq</th>\n",
       "      <td>19</td>\n",
       "      <td>167</td>\n",
       "    </tr>\n",
       "  </tbody>\n",
       "</table>\n",
       "</div>"
      ],
      "text/plain": [
       "                      Tokens                         Preds\n",
       "count                   3453                          3453\n",
       "unique                  3184                          1469\n",
       "top     [LONDON, 1996-12-06]  [B-ORG, O, O, O, O, O, O, O]\n",
       "freq                      19                           167"
      ]
     },
     "execution_count": 9,
     "metadata": {},
     "output_type": "execute_result"
    }
   ],
   "source": [
    "og_label_df.describe()"
   ]
  },
  {
   "cell_type": "code",
   "execution_count": 13,
   "metadata": {},
   "outputs": [
    {
     "data": {
      "text/plain": [
       "1208"
      ]
     },
     "execution_count": 13,
     "metadata": {},
     "output_type": "execute_result"
    }
   ],
   "source": [
    "og_errors=[]\n",
    "for i in range(3453):\n",
    "    if og_label_df[\"Preds\"][i]==og_pred_df[\"Preds\"][i]:\n",
    "        pass\n",
    "    else:\n",
    "        for e in range(len(og_pred_df[\"Preds\"][i])):\n",
    "            if og_label_df[\"Preds\"][i][e] != og_pred_df[\"Preds\"][i][e]:\n",
    "                og_errors.append([i,og_label_df[\"Preds\"][i][e],og_pred_df[\"Preds\"][i][e],e])\n",
    "len(og_errors)"
   ]
  },
  {
   "cell_type": "code",
   "execution_count": 86,
   "metadata": {},
   "outputs": [
    {
     "data": {
      "text/plain": [
       "710"
      ]
     },
     "execution_count": 86,
     "metadata": {},
     "output_type": "execute_result"
    }
   ],
   "source": [
    "f_lines=set([a[0] for a in og_errors])\n",
    "len(f_lines)"
   ]
  },
  {
   "cell_type": "code",
   "execution_count": 84,
   "metadata": {},
   "outputs": [
    {
     "name": "stdout",
     "output_type": "stream",
     "text": [
      "52 [('B-ORG', 'I-PER'), ('B-ORG', 'I-PER'), ('B-PER', 'I-ORG'), ('B-LOC', 'I-MISC'), ('B-ORG', 'I-MISC'), ('B-ORG', 'I-MISC'), ('B-LOC', 'I-MISC'), ('B-LOC', 'I-MISC'), ('B-ORG', 'I-MISC'), ('B-LOC', 'I-ORG'), ('B-ORG', 'I-MISC'), ('B-PER', 'I-ORG'), ('B-ORG', 'I-PER'), ('B-LOC', 'I-MISC'), ('B-MISC', 'I-ORG'), ('B-ORG', 'I-MISC'), ('B-ORG', 'I-LOC'), ('B-LOC', 'I-ORG'), ('B-MISC', 'I-LOC'), ('B-LOC', 'I-ORG'), ('B-LOC', 'I-ORG'), ('B-LOC', 'I-ORG'), ('B-LOC', 'I-MISC'), ('B-ORG', 'I-LOC'), ('B-PER', 'I-LOC'), ('B-PER', 'I-LOC'), ('B-MISC', 'I-ORG'), ('B-LOC', 'I-PER'), ('B-LOC', 'I-ORG'), ('B-MISC', 'I-LOC'), ('B-MISC', 'I-ORG'), ('B-LOC', 'I-MISC'), ('B-MISC', 'I-ORG'), ('B-MISC', 'I-ORG'), ('B-MISC', 'I-ORG'), ('B-PER', 'I-ORG'), ('B-PER', 'I-LOC'), ('B-MISC', 'I-ORG'), ('B-LOC', 'I-MISC'), ('B-LOC', 'I-ORG'), ('B-LOC', 'I-ORG'), ('B-LOC', 'I-ORG'), ('B-LOC', 'I-ORG'), ('B-MISC', 'I-LOC'), ('B-MISC', 'I-LOC'), ('B-ORG', 'I-MISC'), ('B-LOC', 'I-MISC'), ('B-ORG', 'I-MISC'), ('B-LOC', 'I-MISC'), ('B-LOC', 'I-MISC'), ('B-PER', 'I-ORG'), ('B-LOC', 'I-MISC')] \n",
      "\n",
      "134 [('B-LOC', 'I-ORG'), ('B-MISC', 'I-PER'), ('B-PER', 'I-MISC'), ('B-ORG', 'I-PER'), ('B-ORG', 'I-PER'), ('B-LOC', 'I-MISC'), ('B-ORG', 'I-PER'), ('B-ORG', 'I-MISC'), ('B-LOC', 'I-ORG'), ('B-LOC', 'I-ORG'), ('B-MISC', 'I-ORG'), ('B-LOC', 'I-ORG'), ('B-LOC', 'I-ORG'), ('B-LOC', 'I-MISC'), ('B-PER', 'I-ORG'), ('B-ORG', 'I-LOC'), ('B-LOC', 'I-ORG'), ('B-MISC', 'I-ORG'), ('B-ORG', 'I-PER'), ('B-ORG', 'I-PER'), ('B-ORG', 'I-PER'), ('B-MISC', 'I-ORG'), ('B-MISC', 'I-ORG'), ('B-MISC', 'I-ORG'), ('B-LOC', 'I-PER'), ('B-MISC', 'I-ORG'), ('B-ORG', 'I-LOC'), ('B-ORG', 'I-MISC'), ('B-MISC', 'I-PER'), ('B-ORG', 'I-LOC'), ('B-ORG', 'I-PER'), ('B-MISC', 'I-LOC'), ('B-ORG', 'I-PER'), ('B-MISC', 'I-LOC'), ('B-ORG', 'I-PER'), ('B-ORG', 'I-MISC'), ('B-MISC', 'I-ORG'), ('B-MISC', 'I-ORG'), ('B-LOC', 'I-MISC'), ('B-LOC', 'I-MISC'), ('B-ORG', 'I-PER'), ('B-LOC', 'I-ORG'), ('B-LOC', 'I-ORG'), ('B-LOC', 'I-ORG'), ('B-MISC', 'I-ORG'), ('B-LOC', 'I-ORG'), ('B-LOC', 'I-ORG'), ('B-LOC', 'I-ORG'), ('B-LOC', 'I-MISC'), ('B-ORG', 'I-LOC'), ('B-LOC', 'I-ORG'), ('B-ORG', 'I-PER'), ('B-MISC', 'I-ORG'), ('B-LOC', 'I-ORG'), ('B-LOC', 'I-MISC'), ('B-MISC', 'I-ORG'), ('B-LOC', 'I-ORG'), ('B-LOC', 'I-ORG'), ('B-ORG', 'I-PER'), ('B-LOC', 'I-ORG'), ('B-PER', 'I-ORG'), ('B-LOC', 'I-ORG'), ('B-MISC', 'I-ORG'), ('B-ORG', 'I-PER'), ('B-LOC', 'I-ORG'), ('B-ORG', 'I-LOC'), ('B-LOC', 'I-ORG'), ('B-ORG', 'I-PER'), ('B-ORG', 'I-MISC'), ('B-LOC', 'I-MISC'), ('B-LOC', 'I-ORG'), ('B-LOC', 'I-PER'), ('B-LOC', 'I-ORG'), ('B-MISC', 'I-ORG'), ('B-ORG', 'I-PER'), ('B-LOC', 'I-ORG'), ('B-MISC', 'I-LOC'), ('B-PER', 'I-ORG'), ('B-ORG', 'I-MISC'), ('B-LOC', 'I-MISC'), ('B-LOC', 'I-MISC'), ('B-LOC', 'I-PER'), ('B-LOC', 'I-ORG'), ('B-ORG', 'I-LOC'), ('B-LOC', 'I-ORG'), ('B-MISC', 'I-LOC'), ('B-LOC', 'I-ORG'), ('B-ORG', 'I-LOC'), ('B-LOC', 'I-ORG'), ('B-MISC', 'I-PER'), ('B-MISC', 'I-ORG'), ('B-LOC', 'I-ORG'), ('B-ORG', 'I-LOC'), ('B-LOC', 'I-ORG'), ('B-LOC', 'I-ORG'), ('B-MISC', 'I-LOC'), ('B-ORG', 'I-MISC'), ('B-PER', 'I-ORG'), ('B-LOC', 'I-ORG'), ('B-MISC', 'I-ORG'), ('B-LOC', 'I-ORG'), ('B-ORG', 'I-PER'), ('B-ORG', 'I-MISC'), ('B-ORG', 'I-MISC'), ('B-ORG', 'I-MISC'), ('B-LOC', 'I-ORG'), ('B-MISC', 'I-LOC'), ('B-ORG', 'I-LOC'), ('B-ORG', 'I-PER'), ('B-ORG', 'I-PER'), ('B-LOC', 'I-MISC'), ('B-LOC', 'I-MISC'), ('B-MISC', 'I-LOC'), ('B-LOC', 'I-ORG'), ('B-ORG', 'I-PER'), ('B-LOC', 'I-ORG'), ('B-LOC', 'I-ORG'), ('B-ORG', 'I-PER'), ('B-ORG', 'I-MISC'), ('B-MISC', 'I-ORG'), ('B-ORG', 'I-PER'), ('B-MISC', 'I-ORG'), ('B-LOC', 'I-ORG'), ('B-ORG', 'I-LOC'), ('B-LOC', 'I-ORG'), ('B-LOC', 'I-ORG'), ('B-MISC', 'I-ORG'), ('B-LOC', 'I-ORG'), ('B-MISC', 'I-ORG'), ('B-LOC', 'I-PER'), ('B-ORG', 'I-MISC'), ('B-MISC', 'I-ORG'), ('B-LOC', 'I-ORG'), ('B-LOC', 'I-ORG')]\n"
     ]
    }
   ],
   "source": [
    "def read_data(input_file):\n",
    "    rf = open(input_file, 'r')\n",
    "    lines = []; words = []; labels = []\n",
    "    for line in rf:\n",
    "        word = line.strip().split(' ')[0]\n",
    "        label = line.strip().split(' ')[-1]\n",
    "        if len(line.strip()) == 0 and words[-1] == '.':\n",
    "            l = ' '.join([label for label in labels if len(label) > 0])\n",
    "            w = ' '.join([word for word in words if len(word) > 0])\n",
    "            lines.append((l, w))\n",
    "            words = []\n",
    "            labels = []\n",
    "        words.append(word)\n",
    "        labels.append(label)\n",
    "    labels_list=[]\n",
    "    for l in lines:\n",
    "        labels_list.append(l[0])\n",
    "    return labels_list, lines\n",
    "   \n",
    "og_preds, og_lines =  read_data(\"./baselines/bert_baseline/original_conll03/original_test_predictions.txt\")\n",
    "prop_preds, prop_lines =  read_data(\"./baselines/bert_baseline/proposed_conll03/proposed_test_predictions.txt\")\n",
    "\n",
    "\"\"\"\n",
    "finding incongruent sequences like B-PER I-LOC\n",
    "currently only works for entities with two words\n",
    "\"\"\"\n",
    "def incongruent_label(labels):\n",
    "    incong=[]\n",
    "    for l in labels:\n",
    "        ll=l.split(' ')\n",
    "        for w in range(len(ll)):\n",
    "            if ll[w]=='O':\n",
    "                pass\n",
    "            else:\n",
    "                if ll[w].split('-')[0]=='B':\n",
    "                    if ll[w+1].split('-')[0]=='I':\n",
    "                        if  ll[w].split('-')[1]!=ll[w+1].split('-')[1]:\n",
    "                            incong.append((ll[w],ll[w+1]))\n",
    "    return incong\n",
    "\n",
    "og_incongruent=incongruent_label(og_preds)\n",
    "prop_incongruent=incongruent_label(prop_preds)\n",
    "print(len(og_incongruent),og_incongruent,'\\n')\n",
    "print(len(prop_incongruent),prop_incongruent)"
   ]
  },
  {
   "cell_type": "code",
   "execution_count": 85,
   "metadata": {},
   "outputs": [
    {
     "name": "stdout",
     "output_type": "stream",
     "text": [
      "[(('B-LOC', 'I-MISC'), 11), (('B-LOC', 'I-ORG'), 10), (('B-ORG', 'I-MISC'), 7), (('B-MISC', 'I-ORG'), 7), (('B-PER', 'I-ORG'), 4), (('B-MISC', 'I-LOC'), 4), (('B-ORG', 'I-PER'), 3), (('B-PER', 'I-LOC'), 3), (('B-ORG', 'I-LOC'), 2), (('B-LOC', 'I-PER'), 1)]\n",
      "[(('B-LOC', 'I-ORG'), 42), (('B-ORG', 'I-PER'), 21), (('B-MISC', 'I-ORG'), 20), (('B-LOC', 'I-MISC'), 11), (('B-ORG', 'I-MISC'), 11), (('B-ORG', 'I-LOC'), 10), (('B-MISC', 'I-LOC'), 7), (('B-PER', 'I-ORG'), 4), (('B-LOC', 'I-PER'), 4), (('B-MISC', 'I-PER'), 3), (('B-PER', 'I-MISC'), 1)]\n"
     ]
    }
   ],
   "source": [
    "from collections import Counter\n",
    "print(Counter(og_incongruent).most_common(20))\n",
    "print(Counter(prop_incongruent).most_common(20))"
   ]
  },
  {
   "cell_type": "code",
   "execution_count": null,
   "metadata": {},
   "outputs": [],
   "source": []
  }
 ],
 "metadata": {
  "kernelspec": {
   "display_name": "Python 3",
   "language": "python",
   "name": "python3"
  },
  "language_info": {
   "codemirror_mode": {
    "name": "ipython",
    "version": 3
   },
   "file_extension": ".py",
   "mimetype": "text/x-python",
   "name": "python",
   "nbconvert_exporter": "python",
   "pygments_lexer": "ipython3",
   "version": "3.7.3"
  }
 },
 "nbformat": 4,
 "nbformat_minor": 2
}
