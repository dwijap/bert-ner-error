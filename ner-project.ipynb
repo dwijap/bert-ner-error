{
 "cells": [
  {
   "cell_type": "code",
   "execution_count": 5,
   "metadata": {},
   "outputs": [],
   "source": [
    "import pandas as pd\n",
    "import numpy as np\n",
    "import matplotlib as plt\n",
    "import os\n",
    "#datapath = os.path.join(\"baselines\", \"bert_baseline\", \"original_conll03\",\"\")\n",
    "#df=pd.read_csv('original_test_predictions.txt')"
   ]
  },
  {
   "cell_type": "code",
   "execution_count": 10,
   "metadata": {},
   "outputs": [
    {
     "name": "stdout",
     "output_type": "stream",
     "text": [
      "['']\n"
     ]
    }
   ],
   "source": [
    "def _read_data(input_file):\n",
    "    rf = open(input_file, 'r')\n",
    "    lines = []; words = []; labels = []\n",
    "    for line in rf:\n",
    "        word = line.strip().split(' ')[0]\n",
    "        label = line.strip().split(' ')[-1]\n",
    "        if len(line.strip()) == 0 and words[-1] == '.':\n",
    "            l = ' '.join([label for label in labels if len(label) > 0])\n",
    "            w = ' '.join([word for word in words if len(word) > 0])\n",
    "            lines.append((l, w))\n",
    "            words = []\n",
    "            labels = []\n",
    "        words.append(word)\n",
    "        labels.append(label)\n",
    "    return lines\n",
    "\n",
    "def _read_label(input_file):\n",
    "    rf = open(input_file, 'r')\n",
    "    lines = []; words = []; labels = []\n",
    "    for line in rf:\n",
    "        word = line.strip().split(' ')[0]\n",
    "        label = line.strip().split(' ')[-1]\n",
    "        if len(line.strip()) == 0 and words[-1] == '.':\n",
    "            l = ' '.join([label for label in labels if len(label) > 0])\n",
    "            w = ' '.join([word for word in words if len(word) > 0])\n",
    "            lines.append((l, w))\n",
    "            words = []\n",
    "            labels = []\n",
    "        words.append(word)\n",
    "        labels.append(label)\n",
    "    return labels\n",
    "\n",
    "def main():\n",
    "   lines =  _read_data(\"./baselines/bert_baseline/original_conll03/original_test_predictions.txt\")\n",
    "   labels=  _read_label(\"./baselines/bert_baseline/original_conll03/original_test_predictions.txt\")\n",
    "   print(labels)\n",
    "                         \n",
    "main()"
   ]
  },
  {
   "cell_type": "code",
   "execution_count": null,
   "metadata": {},
   "outputs": [],
   "source": []
  },
  {
   "cell_type": "code",
   "execution_count": null,
   "metadata": {},
   "outputs": [],
   "source": []
  }
 ],
 "metadata": {
  "kernelspec": {
   "display_name": "Python 3",
   "language": "python",
   "name": "python3"
  },
  "language_info": {
   "codemirror_mode": {
    "name": "ipython",
    "version": 3
   },
   "file_extension": ".py",
   "mimetype": "text/x-python",
   "name": "python",
   "nbconvert_exporter": "python",
   "pygments_lexer": "ipython3",
   "version": "3.7.3"
  }
 },
 "nbformat": 4,
 "nbformat_minor": 2
}
