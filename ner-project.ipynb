{
 "cells": [
  {
   "cell_type": "code",
   "execution_count": 43,
   "metadata": {},
   "outputs": [],
   "source": [
    "import pandas as pd\n",
    "import numpy as np\n",
    "import matplotlib as plt\n",
    "import os\n",
    "#datapath = os.path.join(\"baselines\", \"bert_baseline\", \"original_conll03\",\"\")\n",
    "#df=pd.read_csv('original_test_predictions.txt')"
   ]
  },
  {
   "cell_type": "code",
   "execution_count": 47,
   "metadata": {},
   "outputs": [
    {
     "ename": "AttributeError",
     "evalue": "'list' object has no attribute 'head'",
     "output_type": "error",
     "traceback": [
      "\u001b[1;31m---------------------------------------------------------------------------\u001b[0m",
      "\u001b[1;31mAttributeError\u001b[0m                            Traceback (most recent call last)",
      "\u001b[1;32m<ipython-input-47-1f3850ed0bc6>\u001b[0m in \u001b[0;36m<module>\u001b[1;34m\u001b[0m\n\u001b[0;32m     20\u001b[0m \u001b[0mog_labels\u001b[0m\u001b[1;33m,\u001b[0m \u001b[0mog_lines\u001b[0m \u001b[1;33m=\u001b[0m  \u001b[0m_read_data\u001b[0m\u001b[1;33m(\u001b[0m\u001b[1;34m\"./baselines/bert_baseline/original_conll03/original_test_predictions.txt\"\u001b[0m\u001b[1;33m)\u001b[0m\u001b[1;33m\u001b[0m\u001b[1;33m\u001b[0m\u001b[0m\n\u001b[0;32m     21\u001b[0m \u001b[0mprop_labels\u001b[0m\u001b[1;33m,\u001b[0m \u001b[0mprop_lines\u001b[0m \u001b[1;33m=\u001b[0m  \u001b[0m_read_data\u001b[0m\u001b[1;33m(\u001b[0m\u001b[1;34m\"./baselines/bert_baseline/proposed_conll03/proposed_test_predictions.txt\"\u001b[0m\u001b[1;33m)\u001b[0m\u001b[1;33m\u001b[0m\u001b[1;33m\u001b[0m\u001b[0m\n\u001b[1;32m---> 22\u001b[1;33m \u001b[0mprint\u001b[0m\u001b[1;33m(\u001b[0m\u001b[0mlabels\u001b[0m\u001b[1;33m.\u001b[0m\u001b[0mhead\u001b[0m\u001b[1;33m(\u001b[0m\u001b[1;33m)\u001b[0m\u001b[1;33m)\u001b[0m\u001b[1;33m\u001b[0m\u001b[1;33m\u001b[0m\u001b[0m\n\u001b[0m\u001b[0;32m     23\u001b[0m \u001b[1;31m#print(lines)\u001b[0m\u001b[1;33m\u001b[0m\u001b[1;33m\u001b[0m\u001b[1;33m\u001b[0m\u001b[0m\n",
      "\u001b[1;31mAttributeError\u001b[0m: 'list' object has no attribute 'head'"
     ]
    }
   ],
   "source": [
    "def _read_data(input_file):\n",
    "    rf = open(input_file, 'r')\n",
    "    lines = []; words = []; labels = []\n",
    "    for line in rf:\n",
    "        word = line.strip().split(' ')[0]\n",
    "        label = line.strip().split(' ')[-1]\n",
    "        if len(line.strip()) == 0 and words[-1] == '.':\n",
    "            l = ' '.join([label for label in labels if len(label) > 0])\n",
    "            w = ' '.join([word for word in words if len(word) > 0])\n",
    "            lines.append((l, w))\n",
    "            words = []\n",
    "            labels = []\n",
    "        words.append(word)\n",
    "        labels.append(label)\n",
    "    labels_list=[]\n",
    "    for l in lines:\n",
    "        labels_list.append(l[0])\n",
    "    return labels_list, lines\n",
    "   \n",
    "og_labels, og_lines =  _read_data(\"./baselines/bert_baseline/original_conll03/original_test_predictions.txt\")\n",
    "prop_labels, prop_lines =  _read_data(\"./baselines/bert_baseline/proposed_conll03/proposed_test_predictions.txt\")"
   ]
  },
  {
   "cell_type": "code",
   "execution_count": 45,
   "metadata": {},
   "outputs": [
    {
     "name": "stdout",
     "output_type": "stream",
     "text": [
      "52 [('B-ORG', 'I-PER'), ('B-ORG', 'I-PER'), ('B-PER', 'I-ORG'), ('B-LOC', 'I-MISC'), ('B-ORG', 'I-MISC'), ('B-ORG', 'I-MISC'), ('B-LOC', 'I-MISC'), ('B-LOC', 'I-MISC'), ('B-ORG', 'I-MISC'), ('B-LOC', 'I-ORG'), ('B-ORG', 'I-MISC'), ('B-PER', 'I-ORG'), ('B-ORG', 'I-PER'), ('B-LOC', 'I-MISC'), ('B-MISC', 'I-ORG'), ('B-ORG', 'I-MISC'), ('B-ORG', 'I-LOC'), ('B-LOC', 'I-ORG'), ('B-MISC', 'I-LOC'), ('B-LOC', 'I-ORG'), ('B-LOC', 'I-ORG'), ('B-LOC', 'I-ORG'), ('B-LOC', 'I-MISC'), ('B-ORG', 'I-LOC'), ('B-PER', 'I-LOC'), ('B-PER', 'I-LOC'), ('B-MISC', 'I-ORG'), ('B-LOC', 'I-PER'), ('B-LOC', 'I-ORG'), ('B-MISC', 'I-LOC'), ('B-MISC', 'I-ORG'), ('B-LOC', 'I-MISC'), ('B-MISC', 'I-ORG'), ('B-MISC', 'I-ORG'), ('B-MISC', 'I-ORG'), ('B-PER', 'I-ORG'), ('B-PER', 'I-LOC'), ('B-MISC', 'I-ORG'), ('B-LOC', 'I-MISC'), ('B-LOC', 'I-ORG'), ('B-LOC', 'I-ORG'), ('B-LOC', 'I-ORG'), ('B-LOC', 'I-ORG'), ('B-MISC', 'I-LOC'), ('B-MISC', 'I-LOC'), ('B-ORG', 'I-MISC'), ('B-LOC', 'I-MISC'), ('B-ORG', 'I-MISC'), ('B-LOC', 'I-MISC'), ('B-LOC', 'I-MISC'), ('B-PER', 'I-ORG'), ('B-LOC', 'I-MISC')]\n",
      "134 [('B-LOC', 'I-ORG'), ('B-MISC', 'I-PER'), ('B-PER', 'I-MISC'), ('B-ORG', 'I-PER'), ('B-ORG', 'I-PER'), ('B-LOC', 'I-MISC'), ('B-ORG', 'I-PER'), ('B-ORG', 'I-MISC'), ('B-LOC', 'I-ORG'), ('B-LOC', 'I-ORG'), ('B-MISC', 'I-ORG'), ('B-LOC', 'I-ORG'), ('B-LOC', 'I-ORG'), ('B-LOC', 'I-MISC'), ('B-PER', 'I-ORG'), ('B-ORG', 'I-LOC'), ('B-LOC', 'I-ORG'), ('B-MISC', 'I-ORG'), ('B-ORG', 'I-PER'), ('B-ORG', 'I-PER'), ('B-ORG', 'I-PER'), ('B-MISC', 'I-ORG'), ('B-MISC', 'I-ORG'), ('B-MISC', 'I-ORG'), ('B-LOC', 'I-PER'), ('B-MISC', 'I-ORG'), ('B-ORG', 'I-LOC'), ('B-ORG', 'I-MISC'), ('B-MISC', 'I-PER'), ('B-ORG', 'I-LOC'), ('B-ORG', 'I-PER'), ('B-MISC', 'I-LOC'), ('B-ORG', 'I-PER'), ('B-MISC', 'I-LOC'), ('B-ORG', 'I-PER'), ('B-ORG', 'I-MISC'), ('B-MISC', 'I-ORG'), ('B-MISC', 'I-ORG'), ('B-LOC', 'I-MISC'), ('B-LOC', 'I-MISC'), ('B-ORG', 'I-PER'), ('B-LOC', 'I-ORG'), ('B-LOC', 'I-ORG'), ('B-LOC', 'I-ORG'), ('B-MISC', 'I-ORG'), ('B-LOC', 'I-ORG'), ('B-LOC', 'I-ORG'), ('B-LOC', 'I-ORG'), ('B-LOC', 'I-MISC'), ('B-ORG', 'I-LOC'), ('B-LOC', 'I-ORG'), ('B-ORG', 'I-PER'), ('B-MISC', 'I-ORG'), ('B-LOC', 'I-ORG'), ('B-LOC', 'I-MISC'), ('B-MISC', 'I-ORG'), ('B-LOC', 'I-ORG'), ('B-LOC', 'I-ORG'), ('B-ORG', 'I-PER'), ('B-LOC', 'I-ORG'), ('B-PER', 'I-ORG'), ('B-LOC', 'I-ORG'), ('B-MISC', 'I-ORG'), ('B-ORG', 'I-PER'), ('B-LOC', 'I-ORG'), ('B-ORG', 'I-LOC'), ('B-LOC', 'I-ORG'), ('B-ORG', 'I-PER'), ('B-ORG', 'I-MISC'), ('B-LOC', 'I-MISC'), ('B-LOC', 'I-ORG'), ('B-LOC', 'I-PER'), ('B-LOC', 'I-ORG'), ('B-MISC', 'I-ORG'), ('B-ORG', 'I-PER'), ('B-LOC', 'I-ORG'), ('B-MISC', 'I-LOC'), ('B-PER', 'I-ORG'), ('B-ORG', 'I-MISC'), ('B-LOC', 'I-MISC'), ('B-LOC', 'I-MISC'), ('B-LOC', 'I-PER'), ('B-LOC', 'I-ORG'), ('B-ORG', 'I-LOC'), ('B-LOC', 'I-ORG'), ('B-MISC', 'I-LOC'), ('B-LOC', 'I-ORG'), ('B-ORG', 'I-LOC'), ('B-LOC', 'I-ORG'), ('B-MISC', 'I-PER'), ('B-MISC', 'I-ORG'), ('B-LOC', 'I-ORG'), ('B-ORG', 'I-LOC'), ('B-LOC', 'I-ORG'), ('B-LOC', 'I-ORG'), ('B-MISC', 'I-LOC'), ('B-ORG', 'I-MISC'), ('B-PER', 'I-ORG'), ('B-LOC', 'I-ORG'), ('B-MISC', 'I-ORG'), ('B-LOC', 'I-ORG'), ('B-ORG', 'I-PER'), ('B-ORG', 'I-MISC'), ('B-ORG', 'I-MISC'), ('B-ORG', 'I-MISC'), ('B-LOC', 'I-ORG'), ('B-MISC', 'I-LOC'), ('B-ORG', 'I-LOC'), ('B-ORG', 'I-PER'), ('B-ORG', 'I-PER'), ('B-LOC', 'I-MISC'), ('B-LOC', 'I-MISC'), ('B-MISC', 'I-LOC'), ('B-LOC', 'I-ORG'), ('B-ORG', 'I-PER'), ('B-LOC', 'I-ORG'), ('B-LOC', 'I-ORG'), ('B-ORG', 'I-PER'), ('B-ORG', 'I-MISC'), ('B-MISC', 'I-ORG'), ('B-ORG', 'I-PER'), ('B-MISC', 'I-ORG'), ('B-LOC', 'I-ORG'), ('B-ORG', 'I-LOC'), ('B-LOC', 'I-ORG'), ('B-LOC', 'I-ORG'), ('B-MISC', 'I-ORG'), ('B-LOC', 'I-ORG'), ('B-MISC', 'I-ORG'), ('B-LOC', 'I-PER'), ('B-ORG', 'I-MISC'), ('B-MISC', 'I-ORG'), ('B-LOC', 'I-ORG'), ('B-LOC', 'I-ORG')]\n"
     ]
    }
   ],
   "source": [
    "def _incongruent_label(labels):\n",
    "    incong=[]\n",
    "    for l in labels:\n",
    "        ll=l.split(' ')\n",
    "        for w in range(len(ll)):\n",
    "            if ll[w]=='O':\n",
    "                pass\n",
    "            else:\n",
    "                if ll[w].split('-')[0]=='B':\n",
    "                    if ll[w+1].split('-')[0]=='I':\n",
    "                        if  ll[w].split('-')[1]!=ll[w+1].split('-')[1]:\n",
    "                            incong.append((ll[w],ll[w+1]))\n",
    "    return incong\n",
    "\n",
    "og_incongruent=_incongruent_label(og_labels)\n",
    "prop_incongruent=_incongruent_label(prop_labels)\n",
    "print(len(og_incongruent),og_incongruent)\n",
    "print(len(prop_incongruent),prop_incongruent)"
   ]
  },
  {
   "cell_type": "code",
   "execution_count": null,
   "metadata": {},
   "outputs": [],
   "source": []
  }
 ],
 "metadata": {
  "kernelspec": {
   "display_name": "Python 3",
   "language": "python",
   "name": "python3"
  },
  "language_info": {
   "codemirror_mode": {
    "name": "ipython",
    "version": 3
   },
   "file_extension": ".py",
   "mimetype": "text/x-python",
   "name": "python",
   "nbconvert_exporter": "python",
   "pygments_lexer": "ipython3",
   "version": "3.7.3"
  }
 },
 "nbformat": 4,
 "nbformat_minor": 2
}
