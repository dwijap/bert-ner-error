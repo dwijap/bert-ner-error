{
 "cells": [
  {
   "cell_type": "code",
   "execution_count": 6,
   "metadata": {},
   "outputs": [],
   "source": [
    "import os\n",
    "import sys\n",
    "import numpy as np\n",
    "import utilities as utils\n",
    "import sklearn.metrics as skm\n",
    "import matplotlib.pyplot as plt\n",
    "import pandas as pd\n",
    "\n",
    "from scipy import stats\n",
    "from collections import Counter\n",
    "import seaborn as sns"
   ]
  },
  {
   "cell_type": "markdown",
   "metadata": {},
   "source": [
    "## Model predictions (BERT)"
   ]
  },
  {
   "cell_type": "code",
   "execution_count": 7,
   "metadata": {},
   "outputs": [
    {
     "name": "stdout",
     "output_type": "stream",
     "text": [
      "total 1303188\n",
      "-rw-r--r-- 1 dwija dwija       1760 Jun 15 10:17 config.json\n",
      "-rw-r--r-- 1 dwija dwija 1334453533 Jun 15 10:17 pytorch_model.bin\n",
      "-rw-r--r-- 1 dwija dwija       1977 Jun 15 10:17 training_meta.bin\n",
      "total 4\n",
      "-rw-r--r-- 1 dwija dwija 1884 Jun 15 10:17 b1.0-conll03-large.json\n"
     ]
    }
   ],
   "source": [
    "conll03_config = \"b1.0-conll03-large\"\n",
    "\n",
    "!ls -l results/{conll03_config}/checkpoint/\n",
    "!ls -l configs/baselines"
   ]
  },
  {
   "cell_type": "markdown",
   "metadata": {},
   "source": [
    "I saved the best predictions of the model in the checkpoint folder (check them out `ls results/b1.0-conll03-large/*.bin`). You can load the predictions along with the lables from those binary files:"
   ]
  },
  {
   "cell_type": "code",
   "execution_count": 8,
   "metadata": {},
   "outputs": [
    {
     "name": "stdout",
     "output_type": "stream",
     "text": [
      "results/b1.0-conll03-large/dev_best_preds.bin\n",
      "results/b1.0-conll03-large/dev_preds_across_epochs.bin\n",
      "results/b1.0-conll03-large/test_best_preds.bin\n",
      "results/b1.0-conll03-large/train_preds_across_epochs.bin\n"
     ]
    }
   ],
   "source": [
    "!ls results/b1.0-conll03-large/*.bin"
   ]
  },
  {
   "cell_type": "code",
   "execution_count": 9,
   "metadata": {},
   "outputs": [
    {
     "name": "stdout",
     "output_type": "stream",
     "text": [
      "classes      precision    recall    f1-score    support\n",
      "---------  -----------  --------  ----------  ---------\n",
      "LOC             92.679    93.345      93.011       1668\n",
      "MISC            82.464    81.054      81.753        702\n",
      "ORG             85.125    91.993      88.426       1661\n",
      "PER             96.669    95.114      95.885       1617\n",
      "\n",
      "macro avg       90.330    91.926      91.086       5648\n",
      "micro avg       90.202    91.926      91.056       5648\n",
      "\n"
     ]
    }
   ],
   "source": [
    "import torch\n",
    "import json\n",
    "from utilities import EpochStats\n",
    "\n",
    "conll03_args = utils.load_args(default_config=f\"configs/baselines/{conll03_config}.json\")\n",
    "\n",
    "#f\" loads a file like object so this one is loading the model's predictions\n",
    "test_pred_stats = torch.load(f\"results/{conll03_config}/test_best_preds.bin\")\n",
    "test_pred_stats.print_classification_report(conll03_args.data.label_scheme)"
   ]
  },
  {
   "cell_type": "markdown",
   "metadata": {},
   "source": [
    "Or you can load the predictions, convert them to label (using label_scheme), and then load the actual data (e.g., from the data folder) and align them to check the results. Both ways are equivalent:"
   ]
  },
  {
   "cell_type": "code",
   "execution_count": 10,
   "metadata": {
    "scrolled": true
   },
   "outputs": [
    {
     "name": "stdout",
     "output_type": "stream",
     "text": [
      "classes      precision    recall    f1-score    support\n",
      "---------  -----------  --------  ----------  ---------\n",
      "LOC             92.679    93.345      93.011       1668\n",
      "MISC            82.464    81.054      81.753        702\n",
      "ORG             85.125    91.993      88.426       1661\n",
      "PER             96.669    95.114      95.885       1617\n",
      "\n",
      "macro avg       90.330    91.926      91.086       5648\n",
      "micro avg       90.202    91.926      91.056       5648\n",
      "\n"
     ]
    }
   ],
   "source": [
    "from seqeval.metrics import f1_score, precision_score, recall_score\n",
    "from seqeval.metrics import classification_report\n",
    "\n",
    "conll03_bert_pred = {\n",
    "    \"ner\": test_pred_stats._map_to_labels(conll03_args.data.label_scheme)[1]\n",
    "}\n",
    "  \n",
    "conll03_test = os.path.join(conll03_args.data.directory, \"test.txt\")\n",
    "conll03_test = utils.read_conll(conll03_test, columns={'txt': 0, 'ner': 1})\n",
    "\n",
    "conll03_train = os.path.join(conll03_args.data.directory, \"train.txt\")\n",
    "conll03_train = utils.read_conll(conll03_train, columns={'txt': 0, 'ner': 1})\n",
    "\n",
    "\n",
    "utils.printcr(\n",
    "    utils.report2dict(\n",
    "        classification_report(conll03_test['ner'], conll03_bert_pred['ner'], digits=5)\n",
    "    )\n",
    ")\n"
   ]
  },
  {
   "cell_type": "code",
   "execution_count": 11,
   "metadata": {},
   "outputs": [],
   "source": [
    "cm_gold=[]\n",
    "cm_pred=[]\n",
    "cm_text=[]\n",
    "cm_train=[]\n",
    "cm_train_label=[]\n",
    "\n",
    "for sublist in conll03_test['txt']:\n",
    "    for item in sublist:\n",
    "        cm_text.append(item)\n",
    "        \n",
    "for sublist in conll03_train['txt']:\n",
    "    for item in sublist:\n",
    "        cm_train.append(item)\n",
    "\n",
    "for sublist in conll03_train['ner']:\n",
    "    for item in sublist:\n",
    "        cm_train_label.append(item)\n",
    "\n",
    "for sublist in conll03_test['ner']:\n",
    "    for item in sublist:\n",
    "        cm_gold.append(item)\n",
    "        \n",
    "for sublist in conll03_bert_pred['ner']:\n",
    "    for item in sublist:\n",
    "        cm_pred.append(item)       "
   ]
  },
  {
   "cell_type": "code",
   "execution_count": 12,
   "metadata": {},
   "outputs": [],
   "source": [
    "word_counts = Counter(cm_train)\n",
    "train_list=sorted(word_counts.items(),key=lambda x: x[1])\n",
    "train_list.reverse()\n",
    "\n",
    "word_counts = Counter(cm_text)\n",
    "test_list=sorted(word_counts.items(),key=lambda x: x[1])\n",
    "test_list.reverse()\n",
    "\n",
    "dummy_list=[]\n",
    "for i in test_list:\n",
    "    dummy_list.append(i[0])"
   ]
  },
  {
   "cell_type": "code",
   "execution_count": 13,
   "metadata": {},
   "outputs": [],
   "source": [
    "false_pred=[]\n",
    "false_true=[]\n",
    "false_text=[]\n",
    "\n",
    "for i in range(len(cm_gold)): \n",
    "    if cm_gold[i]!=cm_pred[i]:\n",
    "        false_pred.append(cm_pred[i])\n",
    "        false_true.append(cm_gold[i])\n",
    "        false_text.append(cm_text[i])   \n",
    "\n",
    "false_list=[]\n",
    "word_counts = Counter(false_text)\n",
    "false_list=sorted(word_counts.items(),key=lambda x: x[1])\n",
    "false_list.reverse()\n",
    "\n",
    "dummy_false=[]\n",
    "for i in false_list:\n",
    "    dummy_false.append(i[0]) \n",
    " "
   ]
  },
  {
   "cell_type": "code",
   "execution_count": 14,
   "metadata": {},
   "outputs": [],
   "source": [
    "freq=[]\n",
    "reappears=[]\n",
    "for i in train_list:\n",
    "    if i[0] in false_text:\n",
    "        freq.append([i[0],i[1]])\n",
    "        reappears.append(i[0])\n",
    "for i in freq:\n",
    "    x=dummy_list.index(i[0])\n",
    "    i.append(test_list[x][1])\n",
    "\n",
    "for i in freq:\n",
    "    x=dummy_false.index(i[0])\n",
    "    i.append(false_list[x][1])\n",
    "    "
   ]
  },
  {
   "cell_type": "code",
   "execution_count": 15,
   "metadata": {},
   "outputs": [
    {
     "ename": "PermissionError",
     "evalue": "[Errno 13] Permission denied: 'freq.tsv'",
     "output_type": "error",
     "traceback": [
      "\u001b[1;31m---------------------------------------------------------------------------\u001b[0m",
      "\u001b[1;31mPermissionError\u001b[0m                           Traceback (most recent call last)",
      "\u001b[1;32m<ipython-input-15-241712cb3480>\u001b[0m in \u001b[0;36m<module>\u001b[1;34m\u001b[0m\n\u001b[1;32m----> 1\u001b[1;33m \u001b[1;32mwith\u001b[0m \u001b[0mopen\u001b[0m\u001b[1;33m(\u001b[0m\u001b[1;34m\"freq.tsv\"\u001b[0m\u001b[1;33m,\u001b[0m\u001b[1;34m\"w+\"\u001b[0m\u001b[1;33m)\u001b[0m \u001b[1;32mas\u001b[0m \u001b[0mfile\u001b[0m\u001b[1;33m:\u001b[0m\u001b[1;33m\u001b[0m\u001b[1;33m\u001b[0m\u001b[0m\n\u001b[0m\u001b[0;32m      2\u001b[0m     \u001b[1;32mfor\u001b[0m \u001b[0mi\u001b[0m \u001b[1;32min\u001b[0m \u001b[0mfreq\u001b[0m\u001b[1;33m:\u001b[0m\u001b[1;33m\u001b[0m\u001b[1;33m\u001b[0m\u001b[0m\n\u001b[0;32m      3\u001b[0m         \u001b[0mfile\u001b[0m\u001b[1;33m.\u001b[0m\u001b[0mwrite\u001b[0m\u001b[1;33m(\u001b[0m\u001b[0mstr\u001b[0m\u001b[1;33m(\u001b[0m\u001b[0mi\u001b[0m\u001b[1;33m[\u001b[0m\u001b[1;36m0\u001b[0m\u001b[1;33m]\u001b[0m\u001b[1;33m)\u001b[0m\u001b[1;33m+\u001b[0m\u001b[1;34m\"\\t\"\u001b[0m\u001b[1;33m+\u001b[0m\u001b[0mstr\u001b[0m\u001b[1;33m(\u001b[0m\u001b[0mi\u001b[0m\u001b[1;33m[\u001b[0m\u001b[1;36m1\u001b[0m\u001b[1;33m]\u001b[0m\u001b[1;33m)\u001b[0m\u001b[1;33m+\u001b[0m\u001b[1;34m\"\\t\"\u001b[0m\u001b[1;33m+\u001b[0m\u001b[0mstr\u001b[0m\u001b[1;33m(\u001b[0m\u001b[0mi\u001b[0m\u001b[1;33m[\u001b[0m\u001b[1;36m2\u001b[0m\u001b[1;33m]\u001b[0m\u001b[1;33m)\u001b[0m\u001b[1;33m+\u001b[0m\u001b[1;34m\"\\t\"\u001b[0m\u001b[1;33m+\u001b[0m\u001b[0mstr\u001b[0m\u001b[1;33m(\u001b[0m\u001b[0mi\u001b[0m\u001b[1;33m[\u001b[0m\u001b[1;36m3\u001b[0m\u001b[1;33m]\u001b[0m\u001b[1;33m)\u001b[0m\u001b[1;33m+\u001b[0m\u001b[1;34m\"\\n\"\u001b[0m\u001b[1;33m)\u001b[0m\u001b[1;33m\u001b[0m\u001b[1;33m\u001b[0m\u001b[0m\n",
      "\u001b[1;31mPermissionError\u001b[0m: [Errno 13] Permission denied: 'freq.tsv'"
     ]
    }
   ],
   "source": [
    "with open(\"freq.tsv\",\"w+\") as file:\n",
    "    for i in freq:\n",
    "        file.write(str(i[0])+\"\\t\"+str(i[1])+\"\\t\"+str(i[2])+\"\\t\"+str(i[3])+\"\\n\")"
   ]
  },
  {
   "cell_type": "code",
   "execution_count": 16,
   "metadata": {},
   "outputs": [],
   "source": [
    "mem_freq=[]\n",
    "for i in range(len(cm_text)):\n",
    "    if cm_text[i] in reappears:\n",
    "        #x=cm_text.index(i)\n",
    "        mem_freq.append(str(cm_text[i])+\" \"+str(cm_gold[i]))        "
   ]
  },
  {
   "cell_type": "code",
   "execution_count": 17,
   "metadata": {},
   "outputs": [],
   "source": [
    "token_pred=[]\n",
    "for i in range(len(cm_text)):\n",
    "    if cm_text[i] in reappears:\n",
    "        if cm_pred[i]!= cm_gold[i]:\n",
    "            token_pred.append(str(cm_text[i])+\" \"+str(cm_pred[i]))\n",
    "        "
   ]
  },
  {
   "cell_type": "code",
   "execution_count": 18,
   "metadata": {},
   "outputs": [],
   "source": [
    "mem_freq_train=[]\n",
    "for i in range(len(cm_train)):\n",
    "    if cm_train[i] in reappears:\n",
    "        mem_freq_train.append(str(cm_train[i])+\" \"+str(cm_train_label[i]))  "
   ]
  },
  {
   "cell_type": "code",
   "execution_count": 19,
   "metadata": {},
   "outputs": [],
   "source": [
    "def to_str(ls):\n",
    "    return \" \".join(word for word in ls)"
   ]
  },
  {
   "cell_type": "code",
   "execution_count": 20,
   "metadata": {},
   "outputs": [],
   "source": [
    "#text, gold, freq in test set gold\n",
    "tp_counter=Counter(token_pred)\n",
    "mem_freq_test_counter=Counter(mem_freq)\n",
    "mem_freq_train_counter=Counter(mem_freq_train)\n",
    "\n",
    "tp_counter=sorted(tp_counter.items(),key=lambda x: x[0])\n",
    "tp_counter.reverse()\n",
    "mem_freq_test_counter=sorted(mem_freq_test_counter.items(),key=lambda x: x[0])\n",
    "mem_freq_test_counter.reverse()\n",
    "mem_freq_train_counter=sorted(mem_freq_train_counter.items(),key=lambda x: x[0])\n",
    "mem_freq_train_counter.reverse()"
   ]
  },
  {
   "cell_type": "code",
   "execution_count": 21,
   "metadata": {},
   "outputs": [],
   "source": [
    "temp=[]\n",
    "for i in tp_counter:\n",
    "    temp.append(i[0])"
   ]
  },
  {
   "cell_type": "code",
   "execution_count": 22,
   "metadata": {},
   "outputs": [],
   "source": [
    "temp1=[]\n",
    "for i in mem_freq_test_counter:\n",
    "    temp1.append(i[0])"
   ]
  },
  {
   "cell_type": "code",
   "execution_count": 23,
   "metadata": {},
   "outputs": [],
   "source": [
    "mem=[]\n",
    "for i in mem_freq_train_counter:\n",
    "    y=\"NA\"\n",
    "    if i[0] in temp: \n",
    "        x=temp.index(i[0])\n",
    "        y=tp_counter[x][1]\n",
    "    mem.append([i[0],i[1],y])\n",
    "\n",
    "for i in mem:\n",
    "    y=\"NA\"\n",
    "    if i[0] in temp1:\n",
    "        x=temp1.index(i[0])\n",
    "        y=mem_freq_test_counter[x][1]\n",
    "    i.append(y)\n",
    "  "
   ]
  },
  {
   "cell_type": "code",
   "execution_count": 27,
   "metadata": {},
   "outputs": [],
   "source": [
    "targets=[\"Czech B-MISC\"]"
   ]
  },
  {
   "cell_type": "code",
   "execution_count": 28,
   "metadata": {},
   "outputs": [],
   "source": [
    "sentences=[]\n",
    "for i in range(len(conll03_test['txt'])):\n",
    "    for j in range(len(conll03_test['txt'][i])):\n",
    "        x=str(conll03_test['txt'][i][j])+\" \"+str(conll03_bert_pred['ner'][i][j])\n",
    "        y=str(conll03_test['txt'][i][j])+\" \"+str(conll03_test['ner'][i][j])\n",
    "        if x != y and x in targets:\n",
    "            sentences.append([x,to_str(conll03_test['txt'][i])])"
   ]
  },
  {
   "cell_type": "code",
   "execution_count": 29,
   "metadata": {},
   "outputs": [
    {
     "data": {
      "text/plain": [
       "[['Czech B-MISC',\n",
       "  'Lazio have injury doubts about striker Pierluigi Casiraghi , Czech midfielder Pavel Nedved and defender Paolo Negro , while Roma present a full strength side led by Argentine Abel Balbo , Marco Delvecchio and Francesco Totti in attack .'],\n",
       " ['Czech B-MISC',\n",
       "  \"Czech President Vaclav Havel on Friday welcomed the appointment of Madeleine Albright , who is of Czech extraction , as the United States ' first woman Secretary of State .\"],\n",
       " ['Czech B-MISC',\n",
       "  \"Czech President Vaclav Havel on Friday welcomed the appointment of Madeleine Albright , who is of Czech extraction , as the United States ' first woman Secretary of State .\"],\n",
       " ['Czech B-MISC',\n",
       "  \"Czech diplomats , seeking to have their country included in the expected expansion of NATO , praised the selection of Albright , known to be a strong supporter of alliance 's integration of former Soveit-bloc countries .\"],\n",
       " ['Czech B-MISC',\n",
       "  'Czech ambassador to the United Nations , Karel Kovanda , told the daily Mlada Fronta Dnes that Albright \" is a little light in our diplomatic heaven , \" but warned against expecting her to exert any influence in favour of the Czechs .'],\n",
       " ['Czech B-MISC',\n",
       "  'He said after June general elections in which the ruling three-party coalition lost its parliamentary majority , the ODS executive , led by Prime Minister Vaclav Klaus , had developed proposals on these subjects to present at the congress on Saturday in the Czech second city Brno .'],\n",
       " ['Czech B-MISC',\n",
       "  'The ODS , a party in which Klaus often tries to emulate the style of former British Prime Minister Margaret Thatcher , has been in control of Czech politics since winning general elections in 1992 .'],\n",
       " ['Czech B-MISC',\n",
       "  'The party , led by the vigorously-confident Klaus , took 32 of 81 seats after late November runoff elections to the new upper house of Czech parliament .'],\n",
       " ['Czech B-MISC',\n",
       "  \"Some analysts say cheaper but high-quality Czech imports could invade Poland once tariffs for CEFTA countries are lifted in 1998 , but van Boxmeer says such a threat might be exaggerated despite the Czech beer market 's overcapacity .\"],\n",
       " ['Czech B-MISC',\n",
       "  \"Some analysts say cheaper but high-quality Czech imports could invade Poland once tariffs for CEFTA countries are lifted in 1998 , but van Boxmeer says such a threat might be exaggerated despite the Czech beer market 's overcapacity .\"],\n",
       " ['Czech B-MISC',\n",
       "  'I think that this fidelity to our beers is a factor which can limit the Czech beers , \" he said .'],\n",
       " ['Czech B-MISC',\n",
       "  'Doctors performed an emergency tracheotomy to help Czech President Vaclav Havel breathe after cancer surgery on his lungs earlier this week , a spokesman said on Friday .']]"
      ]
     },
     "execution_count": 29,
     "metadata": {},
     "output_type": "execute_result"
    }
   ],
   "source": [
    "sentences"
   ]
  },
  {
   "cell_type": "code",
   "execution_count": 4,
   "metadata": {},
   "outputs": [
    {
     "ename": "PermissionError",
     "evalue": "[Errno 13] Permission denied: 'mem.tsv'",
     "output_type": "error",
     "traceback": [
      "\u001b[1;31m---------------------------------------------------------------------------\u001b[0m",
      "\u001b[1;31mPermissionError\u001b[0m                           Traceback (most recent call last)",
      "\u001b[1;32m<ipython-input-4-c662c856db66>\u001b[0m in \u001b[0;36m<module>\u001b[1;34m\u001b[0m\n\u001b[0;32m      1\u001b[0m \u001b[1;31m#train, pred, gold\u001b[0m\u001b[1;33m\u001b[0m\u001b[1;33m\u001b[0m\u001b[1;33m\u001b[0m\u001b[0m\n\u001b[1;32m----> 2\u001b[1;33m \u001b[1;32mwith\u001b[0m \u001b[0mopen\u001b[0m\u001b[1;33m(\u001b[0m\u001b[1;34m\"mem.tsv\"\u001b[0m\u001b[1;33m,\u001b[0m\u001b[1;34m\"w+\"\u001b[0m\u001b[1;33m)\u001b[0m \u001b[1;32mas\u001b[0m \u001b[0mfile\u001b[0m\u001b[1;33m:\u001b[0m\u001b[1;33m\u001b[0m\u001b[1;33m\u001b[0m\u001b[0m\n\u001b[0m\u001b[0;32m      3\u001b[0m     \u001b[1;32mfor\u001b[0m \u001b[0mi\u001b[0m \u001b[1;32min\u001b[0m \u001b[0mmem\u001b[0m\u001b[1;33m:\u001b[0m\u001b[1;33m\u001b[0m\u001b[1;33m\u001b[0m\u001b[0m\n\u001b[0;32m      4\u001b[0m         \u001b[0mfile\u001b[0m\u001b[1;33m.\u001b[0m\u001b[0mwrite\u001b[0m\u001b[1;33m(\u001b[0m\u001b[0mstr\u001b[0m\u001b[1;33m(\u001b[0m\u001b[0mi\u001b[0m\u001b[1;33m[\u001b[0m\u001b[1;36m0\u001b[0m\u001b[1;33m]\u001b[0m\u001b[1;33m)\u001b[0m\u001b[1;33m+\u001b[0m\u001b[1;34m\"\\t\"\u001b[0m\u001b[1;33m+\u001b[0m\u001b[0mstr\u001b[0m\u001b[1;33m(\u001b[0m\u001b[0mi\u001b[0m\u001b[1;33m[\u001b[0m\u001b[1;36m1\u001b[0m\u001b[1;33m]\u001b[0m\u001b[1;33m)\u001b[0m\u001b[1;33m+\u001b[0m\u001b[1;34m\"\\t\"\u001b[0m\u001b[1;33m+\u001b[0m\u001b[0mstr\u001b[0m\u001b[1;33m(\u001b[0m\u001b[0mi\u001b[0m\u001b[1;33m[\u001b[0m\u001b[1;36m2\u001b[0m\u001b[1;33m]\u001b[0m\u001b[1;33m)\u001b[0m\u001b[1;33m+\u001b[0m\u001b[1;34m\"\\t\"\u001b[0m\u001b[1;33m+\u001b[0m\u001b[0mstr\u001b[0m\u001b[1;33m(\u001b[0m\u001b[0mi\u001b[0m\u001b[1;33m[\u001b[0m\u001b[1;36m3\u001b[0m\u001b[1;33m]\u001b[0m\u001b[1;33m)\u001b[0m\u001b[1;33m+\u001b[0m\u001b[1;34m\"\\n\"\u001b[0m\u001b[1;33m)\u001b[0m\u001b[1;33m\u001b[0m\u001b[1;33m\u001b[0m\u001b[0m\n",
      "\u001b[1;31mPermissionError\u001b[0m: [Errno 13] Permission denied: 'mem.tsv'"
     ]
    }
   ],
   "source": [
    "#train, pred, gold\n",
    "with open(\"mem.tsv\",\"w+\") as file:\n",
    "    for i in mem:\n",
    "        file.write(str(i[0])+\"\\t\"+str(i[1])+\"\\t\"+str(i[2])+\"\\t\"+str(i[3])+\"\\n\")"
   ]
  },
  {
   "cell_type": "code",
   "execution_count": 5,
   "metadata": {},
   "outputs": [
    {
     "ename": "NameError",
     "evalue": "name 'conll03_bert_pred' is not defined",
     "output_type": "error",
     "traceback": [
      "\u001b[1;31m---------------------------------------------------------------------------\u001b[0m",
      "\u001b[1;31mNameError\u001b[0m                                 Traceback (most recent call last)",
      "\u001b[1;32m<ipython-input-5-e898da5d1bef>\u001b[0m in \u001b[0;36m<module>\u001b[1;34m\u001b[0m\n\u001b[0;32m      1\u001b[0m \u001b[0mds\u001b[0m\u001b[1;33m=\u001b[0m\u001b[1;33m[\u001b[0m\u001b[1;33m]\u001b[0m\u001b[1;33m\u001b[0m\u001b[1;33m\u001b[0m\u001b[0m\n\u001b[1;32m----> 2\u001b[1;33m \u001b[1;32mfor\u001b[0m \u001b[0mi\u001b[0m \u001b[1;32min\u001b[0m \u001b[0mrange\u001b[0m\u001b[1;33m(\u001b[0m\u001b[0mlen\u001b[0m\u001b[1;33m(\u001b[0m\u001b[0mconll03_bert_pred\u001b[0m\u001b[1;33m[\u001b[0m\u001b[1;34m\"ner\"\u001b[0m\u001b[1;33m]\u001b[0m\u001b[1;33m)\u001b[0m\u001b[1;33m)\u001b[0m\u001b[1;33m:\u001b[0m\u001b[1;33m\u001b[0m\u001b[1;33m\u001b[0m\u001b[0m\n\u001b[0m\u001b[0;32m      3\u001b[0m     \u001b[1;32mif\u001b[0m \u001b[0mconll03_test\u001b[0m\u001b[1;33m[\u001b[0m\u001b[1;34m\"ner\"\u001b[0m\u001b[1;33m]\u001b[0m\u001b[1;33m[\u001b[0m\u001b[0mi\u001b[0m\u001b[1;33m]\u001b[0m\u001b[1;33m!=\u001b[0m\u001b[0mconll03_bert_pred\u001b[0m\u001b[1;33m[\u001b[0m\u001b[1;34m\"ner\"\u001b[0m\u001b[1;33m]\u001b[0m\u001b[1;33m[\u001b[0m\u001b[0mi\u001b[0m\u001b[1;33m]\u001b[0m\u001b[1;33m:\u001b[0m\u001b[1;33m\u001b[0m\u001b[1;33m\u001b[0m\u001b[0m\n\u001b[0;32m      4\u001b[0m         \u001b[1;32mfor\u001b[0m \u001b[0mj\u001b[0m \u001b[1;32min\u001b[0m \u001b[0mrange\u001b[0m\u001b[1;33m(\u001b[0m\u001b[0mlen\u001b[0m\u001b[1;33m(\u001b[0m\u001b[0mconll03_test\u001b[0m\u001b[1;33m[\u001b[0m\u001b[1;34m\"ner\"\u001b[0m\u001b[1;33m]\u001b[0m\u001b[1;33m[\u001b[0m\u001b[0mi\u001b[0m\u001b[1;33m]\u001b[0m\u001b[1;33m)\u001b[0m\u001b[1;33m)\u001b[0m\u001b[1;33m:\u001b[0m\u001b[1;33m\u001b[0m\u001b[1;33m\u001b[0m\u001b[0m\n\u001b[0;32m      5\u001b[0m             \u001b[1;32mif\u001b[0m \u001b[0mconll03_test\u001b[0m\u001b[1;33m[\u001b[0m\u001b[1;34m\"ner\"\u001b[0m\u001b[1;33m]\u001b[0m\u001b[1;33m[\u001b[0m\u001b[0mi\u001b[0m\u001b[1;33m]\u001b[0m\u001b[1;33m[\u001b[0m\u001b[0mj\u001b[0m\u001b[1;33m]\u001b[0m\u001b[1;33m!=\u001b[0m\u001b[0mconll03_bert_pred\u001b[0m\u001b[1;33m[\u001b[0m\u001b[1;34m\"ner\"\u001b[0m\u001b[1;33m]\u001b[0m\u001b[1;33m[\u001b[0m\u001b[0mi\u001b[0m\u001b[1;33m]\u001b[0m\u001b[1;33m[\u001b[0m\u001b[0mj\u001b[0m\u001b[1;33m]\u001b[0m\u001b[1;33m:\u001b[0m\u001b[1;33m\u001b[0m\u001b[1;33m\u001b[0m\u001b[0m\n",
      "\u001b[1;31mNameError\u001b[0m: name 'conll03_bert_pred' is not defined"
     ]
    }
   ],
   "source": [
    "ds=[]\n",
    "for i in range(len(conll03_bert_pred[\"ner\"])):\n",
    "    if conll03_test[\"ner\"][i]!=conll03_bert_pred[\"ner\"][i]:\n",
    "        for j in range(len(conll03_test[\"ner\"][i])):\n",
    "            if conll03_test[\"ner\"][i][j]!=conll03_bert_pred[\"ner\"][i][j]:\n",
    "                ds.append([conll03_test[\"ner\"][i][j],conll03_bert_pred[\"ner\"][i][j],j,conll03_test[\"txt\"][i][j],to_str(conll03_test[\"txt\"][i])])\n",
    "     "
   ]
  },
  {
   "cell_type": "code",
   "execution_count": 31,
   "metadata": {},
   "outputs": [],
   "source": [
    "with open(\"dsf.tsv\",\"w+\") as file:\n",
    "    for i in ds:\n",
    "        file.write(str(i[0])+\"\\t\"+str(i[1])+\"\\t\"+str(i[2])+\"\\t\"+str(i[3])+\"\\t\"+str(i[4])+\"\\n\")"
   ]
  },
  {
   "cell_type": "code",
   "execution_count": 17,
   "metadata": {},
   "outputs": [
    {
     "name": "stderr",
     "output_type": "stream",
     "text": [
      "C:\\Users\\dwija\\Anaconda3\\lib\\site-packages\\sklearn\\utils\\validation.py:71: FutureWarning: Pass labels=['B-LOC', 'B-MISC', 'B-ORG', 'B-PER', 'I-LOC', 'I-MISC', 'I-ORG', 'I-PER', 'O'] as keyword args. From version 0.25 passing these as positional arguments will result in an error\n",
      "  FutureWarning)\n"
     ]
    },
    {
     "data": {
      "text/html": [
       "<div>\n",
       "<style scoped>\n",
       "    .dataframe tbody tr th:only-of-type {\n",
       "        vertical-align: middle;\n",
       "    }\n",
       "\n",
       "    .dataframe tbody tr th {\n",
       "        vertical-align: top;\n",
       "    }\n",
       "\n",
       "    .dataframe thead th {\n",
       "        text-align: right;\n",
       "    }\n",
       "</style>\n",
       "<table border=\"1\" class=\"dataframe\">\n",
       "  <thead>\n",
       "    <tr style=\"text-align: right;\">\n",
       "      <th></th>\n",
       "      <th>B-LOC</th>\n",
       "      <th>B-MISC</th>\n",
       "      <th>B-ORG</th>\n",
       "      <th>B-PER</th>\n",
       "      <th>I-LOC</th>\n",
       "      <th>I-MISC</th>\n",
       "      <th>I-ORG</th>\n",
       "      <th>I-PER</th>\n",
       "      <th>O</th>\n",
       "    </tr>\n",
       "  </thead>\n",
       "  <tbody>\n",
       "    <tr>\n",
       "      <th>B-LOC</th>\n",
       "      <td>1562</td>\n",
       "      <td>24</td>\n",
       "      <td>59</td>\n",
       "      <td>6</td>\n",
       "      <td>2</td>\n",
       "      <td>1</td>\n",
       "      <td>7</td>\n",
       "      <td>1</td>\n",
       "      <td>6</td>\n",
       "    </tr>\n",
       "    <tr>\n",
       "      <th>B-MISC</th>\n",
       "      <td>27</td>\n",
       "      <td>585</td>\n",
       "      <td>49</td>\n",
       "      <td>5</td>\n",
       "      <td>1</td>\n",
       "      <td>5</td>\n",
       "      <td>1</td>\n",
       "      <td>0</td>\n",
       "      <td>29</td>\n",
       "    </tr>\n",
       "    <tr>\n",
       "      <th>B-ORG</th>\n",
       "      <td>46</td>\n",
       "      <td>18</td>\n",
       "      <td>1553</td>\n",
       "      <td>12</td>\n",
       "      <td>0</td>\n",
       "      <td>0</td>\n",
       "      <td>9</td>\n",
       "      <td>0</td>\n",
       "      <td>23</td>\n",
       "    </tr>\n",
       "    <tr>\n",
       "      <th>B-PER</th>\n",
       "      <td>13</td>\n",
       "      <td>0</td>\n",
       "      <td>40</td>\n",
       "      <td>1543</td>\n",
       "      <td>0</td>\n",
       "      <td>0</td>\n",
       "      <td>1</td>\n",
       "      <td>7</td>\n",
       "      <td>13</td>\n",
       "    </tr>\n",
       "    <tr>\n",
       "      <th>I-LOC</th>\n",
       "      <td>0</td>\n",
       "      <td>0</td>\n",
       "      <td>0</td>\n",
       "      <td>0</td>\n",
       "      <td>243</td>\n",
       "      <td>0</td>\n",
       "      <td>9</td>\n",
       "      <td>2</td>\n",
       "      <td>3</td>\n",
       "    </tr>\n",
       "    <tr>\n",
       "      <th>I-MISC</th>\n",
       "      <td>1</td>\n",
       "      <td>5</td>\n",
       "      <td>1</td>\n",
       "      <td>0</td>\n",
       "      <td>10</td>\n",
       "      <td>153</td>\n",
       "      <td>24</td>\n",
       "      <td>1</td>\n",
       "      <td>21</td>\n",
       "    </tr>\n",
       "    <tr>\n",
       "      <th>I-ORG</th>\n",
       "      <td>2</td>\n",
       "      <td>0</td>\n",
       "      <td>6</td>\n",
       "      <td>0</td>\n",
       "      <td>28</td>\n",
       "      <td>8</td>\n",
       "      <td>767</td>\n",
       "      <td>5</td>\n",
       "      <td>19</td>\n",
       "    </tr>\n",
       "    <tr>\n",
       "      <th>I-PER</th>\n",
       "      <td>0</td>\n",
       "      <td>2</td>\n",
       "      <td>0</td>\n",
       "      <td>1</td>\n",
       "      <td>1</td>\n",
       "      <td>0</td>\n",
       "      <td>8</td>\n",
       "      <td>1144</td>\n",
       "      <td>0</td>\n",
       "    </tr>\n",
       "    <tr>\n",
       "      <th>O</th>\n",
       "      <td>15</td>\n",
       "      <td>46</td>\n",
       "      <td>77</td>\n",
       "      <td>18</td>\n",
       "      <td>11</td>\n",
       "      <td>46</td>\n",
       "      <td>38</td>\n",
       "      <td>3</td>\n",
       "      <td>38069</td>\n",
       "    </tr>\n",
       "  </tbody>\n",
       "</table>\n",
       "</div>"
      ],
      "text/plain": [
       "        B-LOC  B-MISC  B-ORG  B-PER  I-LOC  I-MISC  I-ORG  I-PER      O\n",
       "B-LOC    1562      24     59      6      2       1      7      1      6\n",
       "B-MISC     27     585     49      5      1       5      1      0     29\n",
       "B-ORG      46      18   1553     12      0       0      9      0     23\n",
       "B-PER      13       0     40   1543      0       0      1      7     13\n",
       "I-LOC       0       0      0      0    243       0      9      2      3\n",
       "I-MISC      1       5      1      0     10     153     24      1     21\n",
       "I-ORG       2       0      6      0     28       8    767      5     19\n",
       "I-PER       0       2      0      1      1       0      8   1144      0\n",
       "O          15      46     77     18     11      46     38      3  38069"
      ]
     },
     "execution_count": 17,
     "metadata": {},
     "output_type": "execute_result"
    }
   ],
   "source": [
    "cm_classes=sorted(set(cm_gold))\n",
    "cf_matrix=skm.confusion_matrix(cm_gold,cm_pred,cm_classes)\n",
    "cf_matrix= pd.DataFrame(cf_matrix)\n",
    "cf_matrix.columns=cm_classes\n",
    "cf_matrix.index=cm_classes\n",
    "cf_matrix"
   ]
  },
  {
   "cell_type": "code",
   "execution_count": 18,
   "metadata": {},
   "outputs": [
    {
     "data": {
      "text/plain": [
       "<matplotlib.axes._subplots.AxesSubplot at 0x1ad889f0240>"
      ]
     },
     "execution_count": 18,
     "metadata": {},
     "output_type": "execute_result"
    },
    {
     "data": {
      "image/png": "[encoded data removed]",
      "text/plain": [
       "<Figure size 432x288 with 2 Axes>"
      ]
     },
     "metadata": {
      "needs_background": "light"
     },
     "output_type": "display_data"
    }
   ],
   "source": [
    "sns.heatmap(cf_matrix, vmin=0, vmax=90, cmap='Blues')"
   ]
  },
  {
   "cell_type": "markdown",
   "metadata": {},
   "source": [
    "## Load model to predict"
   ]
  },
  {
   "cell_type": "code",
   "execution_count": 19,
   "metadata": {
    "scrolled": true
   },
   "outputs": [],
   "source": [
    "import os\n",
    "import torch\n",
    "import transformers\n",
    "from transformers import BertConfig, BertForTokenClassification, BertTokenizer\n",
    "from nets import NERModel\n",
    "\n",
    "def load_model(checkpoint_dir, args):\n",
    "    tokenizer = BertTokenizer.from_pretrained(args.model.pretrained)\n",
    "    model = NERModel.from_pretrained(checkpoint_dir)\n",
    "    model.eval()\n",
    "    labels = args.data.label_scheme\n",
    "    return model, tokenizer, labels\n",
    "\n",
    "model, tokenizer, index2label = load_model(f\"results/{conll03_config}/checkpoint/\", conll03_args)"
   ]
  },
  {
   "cell_type": "markdown",
   "metadata": {},
   "source": [
    "Define the `predict` function that uses the previously-loaded models:"
   ]
  },
  {
   "cell_type": "code",
   "execution_count": 20,
   "metadata": {},
   "outputs": [],
   "source": [
    "def predict(tokens, verbose=False):\n",
    "    # Including special tokens\n",
    "    input_ids = []\n",
    "    label_msk = []\n",
    "    \n",
    "    for token in tokens:\n",
    "        bert_tokenized = tokenizer.encode(token, add_special_tokens=False)\n",
    "        if len(bert_tokenized) == 1:\n",
    "            input_ids.extend(bert_tokenized)\n",
    "            label_msk.append(1)\n",
    "        else:\n",
    "            input_ids.extend(bert_tokenized)\n",
    "            label_msk.extend([1] + [0] * (len(bert_tokenized) - 1))\n",
    "    \n",
    "    input_ids = torch.tensor([ [tokenizer.cls_token_id] + input_ids ])\n",
    "    label_msk = torch.tensor([ [0] + label_msk ])\n",
    "    \n",
    "    if verbose:\n",
    "        print(tokens)\n",
    "        print(tokenizer.tokenize(' '.join(tokens)))\n",
    "    \n",
    "    assert input_ids.shape == label_msk.shape\n",
    "    \n",
    "    with torch.no_grad():\n",
    "        losses, scores = model(input_ids, attention_mask=None, token_type_ids=None)\n",
    "        scores = scores[label_msk == 1]\n",
    "        logits = torch.softmax(scores, dim=-1)\n",
    "        classes = torch.argmax(logits, dim=-1).view(-1)\n",
    "        preds = [index2label[ix] for ix in classes] \n",
    "    return preds"
   ]
  },
  {
   "cell_type": "markdown",
   "metadata": {},
   "source": [
    "## Predict using the model\n",
    "\n",
    "We can try the fine-tuned modal now:"
   ]
  },
  {
   "cell_type": "code",
   "execution_count": 32,
   "metadata": {},
   "outputs": [
    {
     "name": "stdout",
     "output_type": "stream",
     "text": [
      "['B-PER', 'I-PER', 'O', 'O', 'O']\n",
      "['B-PER', 'O', 'O', 'O', 'O']\n",
      "['B-ORG', 'O', 'O', 'O']\n",
      "['B-ORG', 'I-ORG', 'O', 'B-PER', 'I-PER', 'O', 'O', 'O', 'O', 'O', 'O', 'O', 'B-ORG', 'I-ORG', 'O', 'B-ORG', 'O', 'O', 'O', 'O', 'O', 'O', 'O', 'B-ORG', 'O', 'B-PER', 'I-PER', 'O', 'O', 'O', 'O', 'O', 'O', 'O', 'O']\n"
     ]
    }
   ],
   "source": [
    "print(predict(\"Barack Obama was a president\".split()))\n",
    "print(predict(\"Gustavo plays at the park\".split()))\n",
    "print(predict(\"Solorio's speech was inspired\".split()))\n",
    "print(predict(\"Public Service Minister David Dofara, who is the head of the national Red Cross, told Reuters he had seen the bodies of former interior minister Christophe Grelombe and his son, who was not named .\".split()))\n",
    "\n"
   ]
  },
  {
   "cell_type": "code",
   "execution_count": 30,
   "metadata": {},
   "outputs": [
    {
     "data": {
      "text/plain": [
       "[['B-PER', 'I-PER', 'O', 'O', 'O'],\n",
       " ['B-PER', 'I-PER', 'O', 'O', 'O'],\n",
       " ['B-ORG', 'I-ORG', 'O', 'O', 'O'],\n",
       " ['B-PER', 'I-PER'],\n",
       " ['O', 'O'],\n",
       " ['B-ORG', 'O']]"
      ]
     },
     "execution_count": 30,
     "metadata": {},
     "output_type": "execute_result"
    }
   ],
   "source": [
    "def predict_many(sentences):\n",
    "    predictions = []\n",
    "    for s in sentences:\n",
    "        predictions.append(predict(s))\n",
    "    return predictions\n",
    "    \n",
    "predict_many([\n",
    "    'Barack Obama was a president'.split(),\n",
    "    'barack obama was a president'.split(),\n",
    "    'bArAcK oBaMa was a president'.split(),\n",
    "    'Barack Obama'.split(),\n",
    "    'barack obama'.split(),\n",
    "    'bArAcK oBaMa'.split(),\n",
    "])"
   ]
  },
  {
   "cell_type": "code",
   "execution_count": 31,
   "metadata": {},
   "outputs": [
    {
     "data": {
      "text/plain": [
       "[['B-LOC', 'O', 'O', 'O', 'O', 'O', 'B-MISC', 'I-MISC'],\n",
       " ['B-LOC', 'O', 'O', 'O', 'O', 'O', 'O', 'O'],\n",
       " ['O', 'O', 'O', 'O', 'O', 'O', 'B-MISC', 'I-MISC'],\n",
       " ['B-LOC', 'O', 'O', 'O', 'O', 'O', 'B-MISC', 'I-MISC'],\n",
       " ['O', 'B-LOC', 'O', 'O', 'O', 'O', 'O', 'B-MISC', 'I-MISC'],\n",
       " ['O', 'O', 'O', 'O', 'O', 'O', 'O', 'B-MISC', 'I-MISC'],\n",
       " ['B-ORG', 'O', 'O', 'O', 'O', 'I-LOC', 'O']]"
      ]
     },
     "execution_count": 31,
     "metadata": {},
     "output_type": "execute_result"
    }
   ],
   "source": [
    "predict_many([\n",
    "    'China will be present at the Winter Olympics'.split(),\n",
    "    'China will be present at the winter olympics'.split(),\n",
    "    'china will be present at the Winter Olympics'.split(),\n",
    "    'Russia will be present at the Winter Olympics'.split(),\n",
    "    'The USA will be present at the Winter Olympics'.split(),\n",
    "    'the usa will be present at the Winter Olympics'.split(),\n",
    "    'POLAND GOT MONEY FROM POST-WAR SWISS ACCOUNTS'.split(),\n",
    "])"
   ]
  },
  {
   "cell_type": "code",
   "execution_count": 13,
   "metadata": {},
   "outputs": [
    {
     "data": {
      "text/plain": [
       "[['O', 'O', 'O', 'O', 'O', 'O'],\n",
       " ['O', 'O', 'O', 'O', 'O', 'O', 'O', 'O'],\n",
       " ['O', 'O', 'O', 'O', 'O', 'O', 'O', 'O'],\n",
       " ['O', 'O', 'O', 'O', 'O', 'O', 'O', 'O']]"
      ]
     },
     "execution_count": 13,
     "metadata": {},
     "output_type": "execute_result"
    }
   ],
   "source": [
    "predict_many([\n",
    "    'I will not go Outside today'.split(),\n",
    "    'I will not go to the outside today'.split(),\n",
    "    'I will not go to the Outside today'.split(),\n",
    "    'I will not go to the Outside Today'.split(),\n",
    "])"
   ]
  },
  {
   "cell_type": "code",
   "execution_count": 14,
   "metadata": {},
   "outputs": [
    {
     "data": {
      "text/plain": [
       "[['B-ORG',\n",
       "  'O',\n",
       "  'B-MISC',\n",
       "  'O',\n",
       "  'O',\n",
       "  'O',\n",
       "  'O',\n",
       "  'O',\n",
       "  'B-MISC',\n",
       "  'I-MISC',\n",
       "  'O',\n",
       "  'O',\n",
       "  'O',\n",
       "  'O',\n",
       "  'O',\n",
       "  'O',\n",
       "  'O',\n",
       "  'O'],\n",
       " ['O', 'O', 'O', 'O', 'O', 'B-MISC', 'I-MISC', 'O', 'O', 'O', 'O'],\n",
       " ['B-PER', 'O', 'O', 'O', 'O', 'B-MISC', 'I-MISC', 'O', 'O', 'O', 'O']]"
      ]
     },
     "execution_count": 14,
     "metadata": {},
     "output_type": "execute_result"
    }
   ],
   "source": [
    "predict_many([\n",
    "    'Microsoft’s new Edge browser will be built into Windows 10 in the update to be released in August'.split(),\n",
    "    'julia will be built into Windows 10 again later this year'.split(),\n",
    "    'Julia will be built into Windows 10 again later this year'.split(),\n",
    "])"
   ]
  },
  {
   "cell_type": "code",
   "execution_count": null,
   "metadata": {},
   "outputs": [],
   "source": []
  },
  {
   "cell_type": "code",
   "execution_count": null,
   "metadata": {},
   "outputs": [],
   "source": []
  }
 ],
 "metadata": {
  "kernelspec": {
   "display_name": "Python 3",
   "language": "python",
   "name": "python3"
  },
  "language_info": {
   "codemirror_mode": {
    "name": "ipython",
    "version": 3
   },
   "file_extension": ".py",
   "mimetype": "text/x-python",
   "name": "python",
   "nbconvert_exporter": "python",
   "pygments_lexer": "ipython3",
   "version": "3.7.3"
  }
 },
 "nbformat": 4,
 "nbformat_minor": 1
}
